{
 "metadata": {
  "name": "",
  "signature": "sha256:7bf8617c875bbdda7285b0b4a36b1a90a75252213ec306176b6c6d1d532cd769"
 },
 "nbformat": 3,
 "nbformat_minor": 0,
 "worksheets": [
  {
   "cells": [
    {
     "cell_type": "code",
     "collapsed": false,
     "input": [
      "import asyncio\n",
      "import time"
     ],
     "language": "python",
     "metadata": {},
     "outputs": [],
     "prompt_number": 1
    },
    {
     "cell_type": "code",
     "collapsed": false,
     "input": [
      "def i_am_not_a_coroutine():\n",
      "    ii = 0\n",
      "    while True:\n",
      "        sleep_time = 1.\n",
      "        ii += 1\n",
      "        if ii % 10 == 0: \n",
      "            print('I am not a coroutine :(')\n",
      "        time.sleep(sleep_time)\n",
      "        print('I  slept {} seconds'.format(sleep_time))\n",
      "        if ii == 30:\n",
      "            break\n",
      "start = time.perf_counter()            \n",
      "i_am_not_a_coroutine()        \n",
      "print('It has been {}'.format(time.perf_counter() - start))"
     ],
     "language": "python",
     "metadata": {},
     "outputs": [
      {
       "output_type": "stream",
       "stream": "stdout",
       "text": [
        "I  slept 1.0 seconds\n",
        "I  slept 1.0 seconds"
       ]
      },
      {
       "output_type": "stream",
       "stream": "stdout",
       "text": [
        "\n",
        "I  slept 1.0 seconds"
       ]
      },
      {
       "output_type": "stream",
       "stream": "stdout",
       "text": [
        "\n",
        "I  slept 1.0 seconds"
       ]
      },
      {
       "output_type": "stream",
       "stream": "stdout",
       "text": [
        "\n",
        "I  slept 1.0 seconds"
       ]
      },
      {
       "output_type": "stream",
       "stream": "stdout",
       "text": [
        "\n",
        "I  slept 1.0 seconds"
       ]
      },
      {
       "output_type": "stream",
       "stream": "stdout",
       "text": [
        "\n",
        "I  slept 1.0 seconds"
       ]
      },
      {
       "output_type": "stream",
       "stream": "stdout",
       "text": [
        "\n",
        "I  slept 1.0 seconds"
       ]
      },
      {
       "output_type": "stream",
       "stream": "stdout",
       "text": [
        "\n",
        "I  slept 1.0 seconds"
       ]
      },
      {
       "output_type": "stream",
       "stream": "stdout",
       "text": [
        "\n",
        "I am not a coroutine :(\n",
        "I  slept 1.0 seconds"
       ]
      },
      {
       "output_type": "stream",
       "stream": "stdout",
       "text": [
        "\n",
        "I  slept 1.0 seconds"
       ]
      },
      {
       "output_type": "stream",
       "stream": "stdout",
       "text": [
        "\n",
        "I  slept 1.0 seconds"
       ]
      },
      {
       "output_type": "stream",
       "stream": "stdout",
       "text": [
        "\n",
        "I  slept 1.0 seconds"
       ]
      },
      {
       "output_type": "stream",
       "stream": "stdout",
       "text": [
        "\n",
        "I  slept 1.0 seconds"
       ]
      },
      {
       "output_type": "stream",
       "stream": "stdout",
       "text": [
        "\n",
        "I  slept 1.0 seconds"
       ]
      },
      {
       "output_type": "stream",
       "stream": "stdout",
       "text": [
        "\n",
        "I  slept 1.0 seconds"
       ]
      },
      {
       "output_type": "stream",
       "stream": "stdout",
       "text": [
        "\n",
        "I  slept 1.0 seconds"
       ]
      },
      {
       "output_type": "stream",
       "stream": "stdout",
       "text": [
        "\n",
        "I  slept 1.0 seconds"
       ]
      },
      {
       "output_type": "stream",
       "stream": "stdout",
       "text": [
        "\n",
        "I  slept 1.0 seconds"
       ]
      },
      {
       "output_type": "stream",
       "stream": "stdout",
       "text": [
        "\n",
        "I am not a coroutine :(\n",
        "I  slept 1.0 seconds"
       ]
      },
      {
       "output_type": "stream",
       "stream": "stdout",
       "text": [
        "\n",
        "I  slept 1.0 seconds"
       ]
      },
      {
       "output_type": "stream",
       "stream": "stdout",
       "text": [
        "\n",
        "I  slept 1.0 seconds"
       ]
      },
      {
       "output_type": "stream",
       "stream": "stdout",
       "text": [
        "\n",
        "I  slept 1.0 seconds"
       ]
      },
      {
       "output_type": "stream",
       "stream": "stdout",
       "text": [
        "\n",
        "I  slept 1.0 seconds"
       ]
      },
      {
       "output_type": "stream",
       "stream": "stdout",
       "text": [
        "\n",
        "I  slept 1.0 seconds"
       ]
      },
      {
       "output_type": "stream",
       "stream": "stdout",
       "text": [
        "\n",
        "I  slept 1.0 seconds"
       ]
      },
      {
       "output_type": "stream",
       "stream": "stdout",
       "text": [
        "\n",
        "I  slept 1.0 seconds"
       ]
      },
      {
       "output_type": "stream",
       "stream": "stdout",
       "text": [
        "\n",
        "I  slept 1.0 seconds"
       ]
      },
      {
       "output_type": "stream",
       "stream": "stdout",
       "text": [
        "\n",
        "I  slept 1.0 seconds"
       ]
      },
      {
       "output_type": "stream",
       "stream": "stdout",
       "text": [
        "\n",
        "I am not a coroutine :(\n",
        "I  slept 1.0 seconds"
       ]
      },
      {
       "output_type": "stream",
       "stream": "stdout",
       "text": [
        "\n",
        "It has been 30.03591678093653\n"
       ]
      }
     ],
     "prompt_number": 2
    },
    {
     "cell_type": "code",
     "collapsed": false,
     "input": [
      "@asyncio.coroutine\n",
      "def i_am_a_coroutine():\n",
      "    ii = 0\n",
      "    while True:\n",
      "        sleep_time = 1.\n",
      "        print('I  slept {} seconds'.format(sleep_time))\n",
      "        ii += 1\n",
      "        if ii % 10 == 0: \n",
      "            print('I am a coroutine!')\n",
      "        yield from asyncio.sleep(sleep_time)\n",
      "        if ii == 30:\n",
      "            break\n",
      "start = time.perf_counter()            \n",
      "new_loop = asyncio.get_event_loop()\n",
      "f = asyncio.wait([i_am_a_coroutine() for _ in range(10)]) # Put 10 coroutines in a sequence \n",
      "new_loop.run_until_complete(f) # Run\n",
      "print('It has been {}'.format(time.perf_counter() - start))"
     ],
     "language": "python",
     "metadata": {},
     "outputs": [
      {
       "output_type": "stream",
       "stream": "stdout",
       "text": [
        "I  slept 1.0 seconds\n",
        "I  slept 1.0 seconds\n",
        "I  slept 1.0 seconds\n",
        "I  slept 1.0 seconds\n",
        "I  slept 1.0 seconds\n",
        "I  slept 1.0 seconds\n",
        "I  slept 1.0 seconds\n",
        "I  slept 1.0 seconds\n",
        "I  slept 1.0 seconds\n",
        "I  slept 1.0 seconds\n",
        "I  slept 1.0 seconds"
       ]
      },
      {
       "output_type": "stream",
       "stream": "stdout",
       "text": [
        "\n",
        "I  slept 1.0 seconds\n",
        "I  slept 1.0 seconds\n",
        "I  slept 1.0 seconds\n",
        "I  slept 1.0 seconds\n",
        "I  slept 1.0 seconds\n",
        "I  slept 1.0 seconds\n",
        "I  slept 1.0 seconds\n",
        "I  slept 1.0 seconds\n",
        "I  slept 1.0 seconds\n",
        "I  slept 1.0 seconds"
       ]
      },
      {
       "output_type": "stream",
       "stream": "stdout",
       "text": [
        "\n",
        "I  slept 1.0 seconds\n",
        "I  slept 1.0 seconds\n",
        "I  slept 1.0 seconds\n",
        "I  slept 1.0 seconds\n",
        "I  slept 1.0 seconds\n",
        "I  slept 1.0 seconds\n",
        "I  slept 1.0 seconds\n",
        "I  slept 1.0 seconds\n",
        "I  slept 1.0 seconds\n",
        "I  slept 1.0 seconds"
       ]
      },
      {
       "output_type": "stream",
       "stream": "stdout",
       "text": [
        "\n",
        "I  slept 1.0 seconds\n",
        "I  slept 1.0 seconds\n",
        "I  slept 1.0 seconds\n",
        "I  slept 1.0 seconds\n",
        "I  slept 1.0 seconds\n",
        "I  slept 1.0 seconds\n",
        "I  slept 1.0 seconds\n",
        "I  slept 1.0 seconds\n",
        "I  slept 1.0 seconds\n",
        "I  slept 1.0 seconds"
       ]
      },
      {
       "output_type": "stream",
       "stream": "stdout",
       "text": [
        "\n",
        "I  slept 1.0 seconds\n",
        "I  slept 1.0 seconds\n",
        "I  slept 1.0 seconds\n",
        "I  slept 1.0 seconds\n",
        "I  slept 1.0 seconds\n",
        "I  slept 1.0 seconds\n",
        "I  slept 1.0 seconds\n",
        "I  slept 1.0 seconds\n",
        "I  slept 1.0 seconds\n",
        "I  slept 1.0 seconds"
       ]
      },
      {
       "output_type": "stream",
       "stream": "stdout",
       "text": [
        "\n",
        "I  slept 1.0 seconds\n",
        "I  slept 1.0 seconds\n",
        "I  slept 1.0 seconds\n",
        "I  slept 1.0 seconds\n",
        "I  slept 1.0 seconds\n",
        "I  slept 1.0 seconds\n",
        "I  slept 1.0 seconds\n",
        "I  slept 1.0 seconds\n",
        "I  slept 1.0 seconds\n",
        "I  slept 1.0 seconds"
       ]
      },
      {
       "output_type": "stream",
       "stream": "stdout",
       "text": [
        "\n",
        "I  slept 1.0 seconds\n",
        "I  slept 1.0 seconds\n",
        "I  slept 1.0 seconds\n",
        "I  slept 1.0 seconds\n",
        "I  slept 1.0 seconds\n",
        "I  slept 1.0 seconds\n",
        "I  slept 1.0 seconds\n",
        "I  slept 1.0 seconds\n",
        "I  slept 1.0 seconds\n",
        "I  slept 1.0 seconds"
       ]
      },
      {
       "output_type": "stream",
       "stream": "stdout",
       "text": [
        "\n",
        "I  slept 1.0 seconds\n",
        "I  slept 1.0 seconds\n",
        "I  slept 1.0 seconds\n",
        "I  slept 1.0 seconds\n",
        "I  slept 1.0 seconds\n",
        "I  slept 1.0 seconds\n",
        "I  slept 1.0 seconds\n",
        "I  slept 1.0 seconds\n",
        "I  slept 1.0 seconds\n",
        "I  slept 1.0 seconds"
       ]
      },
      {
       "output_type": "stream",
       "stream": "stdout",
       "text": [
        "\n",
        "I  slept 1.0 seconds\n",
        "I  slept 1.0 seconds\n",
        "I  slept 1.0 seconds\n",
        "I  slept 1.0 seconds\n",
        "I  slept 1.0 seconds\n",
        "I  slept 1.0 seconds\n",
        "I  slept 1.0 seconds\n",
        "I  slept 1.0 seconds\n",
        "I  slept 1.0 seconds\n",
        "I  slept 1.0 seconds"
       ]
      },
      {
       "output_type": "stream",
       "stream": "stdout",
       "text": [
        "\n",
        "I am a coroutine!\n",
        "I  slept 1.0 seconds\n",
        "I am a coroutine!\n",
        "I  slept 1.0 seconds\n",
        "I am a coroutine!\n",
        "I  slept 1.0 seconds\n",
        "I am a coroutine!\n",
        "I  slept 1.0 seconds\n",
        "I am a coroutine!\n",
        "I  slept 1.0 seconds\n",
        "I am a coroutine!\n",
        "I  slept 1.0 seconds\n",
        "I am a coroutine!\n",
        "I  slept 1.0 seconds\n",
        "I am a coroutine!\n",
        "I  slept 1.0 seconds\n",
        "I am a coroutine!\n",
        "I  slept 1.0 seconds\n",
        "I am a coroutine!\n",
        "I  slept 1.0 seconds"
       ]
      },
      {
       "output_type": "stream",
       "stream": "stdout",
       "text": [
        "\n",
        "I  slept 1.0 seconds\n",
        "I  slept 1.0 seconds\n",
        "I  slept 1.0 seconds\n",
        "I  slept 1.0 seconds\n",
        "I  slept 1.0 seconds\n",
        "I  slept 1.0 seconds\n",
        "I  slept 1.0 seconds\n",
        "I  slept 1.0 seconds\n",
        "I  slept 1.0 seconds\n",
        "I  slept 1.0 seconds"
       ]
      },
      {
       "output_type": "stream",
       "stream": "stdout",
       "text": [
        "\n",
        "I  slept 1.0 seconds\n",
        "I  slept 1.0 seconds\n",
        "I  slept 1.0 seconds\n",
        "I  slept 1.0 seconds\n",
        "I  slept 1.0 seconds\n",
        "I  slept 1.0 seconds\n",
        "I  slept 1.0 seconds\n",
        "I  slept 1.0 seconds\n",
        "I  slept 1.0 seconds\n",
        "I  slept 1.0 seconds"
       ]
      },
      {
       "output_type": "stream",
       "stream": "stdout",
       "text": [
        "\n",
        "I  slept 1.0 seconds\n",
        "I  slept 1.0 seconds\n",
        "I  slept 1.0 seconds\n",
        "I  slept 1.0 seconds\n",
        "I  slept 1.0 seconds\n",
        "I  slept 1.0 seconds\n",
        "I  slept 1.0 seconds\n",
        "I  slept 1.0 seconds\n",
        "I  slept 1.0 seconds\n",
        "I  slept 1.0 seconds"
       ]
      },
      {
       "output_type": "stream",
       "stream": "stdout",
       "text": [
        "\n",
        "I  slept 1.0 seconds\n",
        "I  slept 1.0 seconds\n",
        "I  slept 1.0 seconds\n",
        "I  slept 1.0 seconds\n",
        "I  slept 1.0 seconds\n",
        "I  slept 1.0 seconds\n",
        "I  slept 1.0 seconds\n",
        "I  slept 1.0 seconds\n",
        "I  slept 1.0 seconds\n",
        "I  slept 1.0 seconds"
       ]
      },
      {
       "output_type": "stream",
       "stream": "stdout",
       "text": [
        "\n",
        "I  slept 1.0 seconds\n",
        "I  slept 1.0 seconds\n",
        "I  slept 1.0 seconds\n",
        "I  slept 1.0 seconds\n",
        "I  slept 1.0 seconds\n",
        "I  slept 1.0 seconds\n",
        "I  slept 1.0 seconds\n",
        "I  slept 1.0 seconds\n",
        "I  slept 1.0 seconds\n",
        "I  slept 1.0 seconds"
       ]
      },
      {
       "output_type": "stream",
       "stream": "stdout",
       "text": [
        "\n",
        "I  slept 1.0 seconds\n",
        "I  slept 1.0 seconds\n",
        "I  slept 1.0 seconds\n",
        "I  slept 1.0 seconds\n",
        "I  slept 1.0 seconds\n",
        "I  slept 1.0 seconds\n",
        "I  slept 1.0 seconds\n",
        "I  slept 1.0 seconds\n",
        "I  slept 1.0 seconds\n",
        "I  slept 1.0 seconds"
       ]
      },
      {
       "output_type": "stream",
       "stream": "stdout",
       "text": [
        "\n",
        "I  slept 1.0 seconds\n",
        "I  slept 1.0 seconds\n",
        "I  slept 1.0 seconds\n",
        "I  slept 1.0 seconds\n",
        "I  slept 1.0 seconds\n",
        "I  slept 1.0 seconds\n",
        "I  slept 1.0 seconds\n",
        "I  slept 1.0 seconds\n",
        "I  slept 1.0 seconds\n",
        "I  slept 1.0 seconds"
       ]
      },
      {
       "output_type": "stream",
       "stream": "stdout",
       "text": [
        "\n",
        "I  slept 1.0 seconds\n",
        "I  slept 1.0 seconds\n",
        "I  slept 1.0 seconds\n",
        "I  slept 1.0 seconds\n",
        "I  slept 1.0 seconds\n",
        "I  slept 1.0 seconds\n",
        "I  slept 1.0 seconds\n",
        "I  slept 1.0 seconds\n",
        "I  slept 1.0 seconds\n",
        "I  slept 1.0 seconds"
       ]
      },
      {
       "output_type": "stream",
       "stream": "stdout",
       "text": [
        "\n",
        "I  slept 1.0 seconds\n",
        "I  slept 1.0 seconds\n",
        "I  slept 1.0 seconds\n",
        "I  slept 1.0 seconds\n",
        "I  slept 1.0 seconds\n",
        "I  slept 1.0 seconds\n",
        "I  slept 1.0 seconds\n",
        "I  slept 1.0 seconds\n",
        "I  slept 1.0 seconds\n",
        "I  slept 1.0 seconds"
       ]
      },
      {
       "output_type": "stream",
       "stream": "stdout",
       "text": [
        "\n",
        "I am a coroutine!\n",
        "I  slept 1.0 seconds\n",
        "I am a coroutine!\n",
        "I  slept 1.0 seconds\n",
        "I am a coroutine!\n",
        "I  slept 1.0 seconds\n",
        "I am a coroutine!\n",
        "I  slept 1.0 seconds\n",
        "I am a coroutine!\n",
        "I  slept 1.0 seconds\n",
        "I am a coroutine!\n",
        "I  slept 1.0 seconds\n",
        "I am a coroutine!\n",
        "I  slept 1.0 seconds\n",
        "I am a coroutine!\n",
        "I  slept 1.0 seconds\n",
        "I am a coroutine!\n",
        "I  slept 1.0 seconds\n",
        "I am a coroutine!\n",
        "I  slept 1.0 seconds"
       ]
      },
      {
       "output_type": "stream",
       "stream": "stdout",
       "text": [
        "\n",
        "I  slept 1.0 seconds\n",
        "I  slept 1.0 seconds\n",
        "I  slept 1.0 seconds\n",
        "I  slept 1.0 seconds\n",
        "I  slept 1.0 seconds\n",
        "I  slept 1.0 seconds\n",
        "I  slept 1.0 seconds\n",
        "I  slept 1.0 seconds\n",
        "I  slept 1.0 seconds\n",
        "I  slept 1.0 seconds"
       ]
      },
      {
       "output_type": "stream",
       "stream": "stdout",
       "text": [
        "\n",
        "I  slept 1.0 seconds\n",
        "I  slept 1.0 seconds\n",
        "I  slept 1.0 seconds\n",
        "I  slept 1.0 seconds\n",
        "I  slept 1.0 seconds\n",
        "I  slept 1.0 seconds\n",
        "I  slept 1.0 seconds\n",
        "I  slept 1.0 seconds\n",
        "I  slept 1.0 seconds\n",
        "I  slept 1.0 seconds"
       ]
      },
      {
       "output_type": "stream",
       "stream": "stdout",
       "text": [
        "\n",
        "I  slept 1.0 seconds\n",
        "I  slept 1.0 seconds\n",
        "I  slept 1.0 seconds\n",
        "I  slept 1.0 seconds\n",
        "I  slept 1.0 seconds\n",
        "I  slept 1.0 seconds\n",
        "I  slept 1.0 seconds\n",
        "I  slept 1.0 seconds\n",
        "I  slept 1.0 seconds\n",
        "I  slept 1.0 seconds"
       ]
      },
      {
       "output_type": "stream",
       "stream": "stdout",
       "text": [
        "\n",
        "I  slept 1.0 seconds\n",
        "I  slept 1.0 seconds\n",
        "I  slept 1.0 seconds\n",
        "I  slept 1.0 seconds\n",
        "I  slept 1.0 seconds\n",
        "I  slept 1.0 seconds\n",
        "I  slept 1.0 seconds\n",
        "I  slept 1.0 seconds\n",
        "I  slept 1.0 seconds\n",
        "I  slept 1.0 seconds"
       ]
      },
      {
       "output_type": "stream",
       "stream": "stdout",
       "text": [
        "\n",
        "I  slept 1.0 seconds\n",
        "I  slept 1.0 seconds\n",
        "I  slept 1.0 seconds\n",
        "I  slept 1.0 seconds\n",
        "I  slept 1.0 seconds\n",
        "I  slept 1.0 seconds\n",
        "I  slept 1.0 seconds\n",
        "I  slept 1.0 seconds\n",
        "I  slept 1.0 seconds\n",
        "I  slept 1.0 seconds"
       ]
      },
      {
       "output_type": "stream",
       "stream": "stdout",
       "text": [
        "\n",
        "I  slept 1.0 seconds\n",
        "I  slept 1.0 seconds\n",
        "I  slept 1.0 seconds\n",
        "I  slept 1.0 seconds\n",
        "I  slept 1.0 seconds\n",
        "I  slept 1.0 seconds\n",
        "I  slept 1.0 seconds\n",
        "I  slept 1.0 seconds\n",
        "I  slept 1.0 seconds\n",
        "I  slept 1.0 seconds"
       ]
      },
      {
       "output_type": "stream",
       "stream": "stdout",
       "text": [
        "\n",
        "I  slept 1.0 seconds\n",
        "I  slept 1.0 seconds\n",
        "I  slept 1.0 seconds\n",
        "I  slept 1.0 seconds\n",
        "I  slept 1.0 seconds\n",
        "I  slept 1.0 seconds\n",
        "I  slept 1.0 seconds\n",
        "I  slept 1.0 seconds\n",
        "I  slept 1.0 seconds\n",
        "I  slept 1.0 seconds"
       ]
      },
      {
       "output_type": "stream",
       "stream": "stdout",
       "text": [
        "\n",
        "I  slept 1.0 seconds\n",
        "I  slept 1.0 seconds\n",
        "I  slept 1.0 seconds\n",
        "I  slept 1.0 seconds\n",
        "I  slept 1.0 seconds\n",
        "I  slept 1.0 seconds\n",
        "I  slept 1.0 seconds\n",
        "I  slept 1.0 seconds\n",
        "I  slept 1.0 seconds\n",
        "I  slept 1.0 seconds"
       ]
      },
      {
       "output_type": "stream",
       "stream": "stdout",
       "text": [
        "\n",
        "I  slept 1.0 seconds\n",
        "I  slept 1.0 seconds\n",
        "I  slept 1.0 seconds\n",
        "I  slept 1.0 seconds\n",
        "I  slept 1.0 seconds\n",
        "I  slept 1.0 seconds\n",
        "I  slept 1.0 seconds\n",
        "I  slept 1.0 seconds\n",
        "I  slept 1.0 seconds\n",
        "I  slept 1.0 seconds"
       ]
      },
      {
       "output_type": "stream",
       "stream": "stdout",
       "text": [
        "\n",
        "I am a coroutine!\n",
        "I  slept 1.0 seconds\n",
        "I am a coroutine!\n",
        "I  slept 1.0 seconds\n",
        "I am a coroutine!\n",
        "I  slept 1.0 seconds\n",
        "I am a coroutine!\n",
        "I  slept 1.0 seconds\n",
        "I am a coroutine!\n",
        "I  slept 1.0 seconds\n",
        "I am a coroutine!\n",
        "I  slept 1.0 seconds\n",
        "I am a coroutine!\n",
        "I  slept 1.0 seconds\n",
        "I am a coroutine!\n",
        "I  slept 1.0 seconds\n",
        "I am a coroutine!\n",
        "I  slept 1.0 seconds\n",
        "I am a coroutine!\n",
        "It has been 30.038558267056942"
       ]
      },
      {
       "output_type": "stream",
       "stream": "stdout",
       "text": [
        "\n"
       ]
      }
     ],
     "prompt_number": 3
    },
    {
     "cell_type": "code",
     "collapsed": false,
     "input": [],
     "language": "python",
     "metadata": {},
     "outputs": []
    }
   ],
   "metadata": {}
  }
 ]
}